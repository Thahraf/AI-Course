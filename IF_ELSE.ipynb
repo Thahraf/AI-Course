{
  "nbformat": 4,
  "nbformat_minor": 0,
  "metadata": {
    "colab": {
      "provenance": [],
      "authorship_tag": "ABX9TyMl2DkGqzYCmPJP0/sWXdvh",
      "include_colab_link": true
    },
    "kernelspec": {
      "name": "python3",
      "display_name": "Python 3"
    },
    "language_info": {
      "name": "python"
    }
  },
  "cells": [
    {
      "cell_type": "markdown",
      "metadata": {
        "id": "view-in-github",
        "colab_type": "text"
      },
      "source": [
        "<a href=\"https://colab.research.google.com/github/Thahraf/AI-Course/blob/main/IF_ELSE.ipynb\" target=\"_parent\"><img src=\"https://colab.research.google.com/assets/colab-badge.svg\" alt=\"Open In Colab\"/></a>"
      ]
    },
    {
      "cell_type": "code",
      "execution_count": 1,
      "metadata": {
        "colab": {
          "base_uri": "https://localhost:8080/"
        },
        "id": "EYwTGKy1mHQD",
        "outputId": "01521b07-24ef-4e34-d43e-2f8169502acb"
      },
      "outputs": [
        {
          "output_type": "stream",
          "name": "stdout",
          "text": [
            "15 is greater than 10\n"
          ]
        }
      ],
      "source": [
        "num1=15\n",
        "num2=10\n",
        "if (num1>num2):\n",
        "  print(num1,\"is greater than\",num2)"
      ]
    },
    {
      "cell_type": "code",
      "source": [
        "if (num1%2 == 0):\n",
        "  print(\"num1 is even number\")\n",
        "else:\n",
        "  print(\"num1 is odd number\")"
      ],
      "metadata": {
        "colab": {
          "base_uri": "https://localhost:8080/"
        },
        "id": "pLLAAnpOnffp",
        "outputId": "18560a67-231a-462e-956b-51e83e05fbd5"
      },
      "execution_count": 2,
      "outputs": [
        {
          "output_type": "stream",
          "name": "stdout",
          "text": [
            "num1 is odd number\n"
          ]
        }
      ]
    },
    {
      "cell_type": "code",
      "source": [
        "a=int(input(\"enter the year\"))\n",
        "if (a%4 == 0):\n",
        "  print(\"leap year\")\n",
        "else:\n",
        "  print(\"not a leap year\")"
      ],
      "metadata": {
        "colab": {
          "base_uri": "https://localhost:8080/"
        },
        "id": "KXFYycChoQeJ",
        "outputId": "f28543cc-e8c6-4545-b60e-e7fbf798e6a0"
      },
      "execution_count": 9,
      "outputs": [
        {
          "output_type": "stream",
          "name": "stdout",
          "text": [
            "enter the year2023\n",
            "not a leap year\n"
          ]
        }
      ]
    },
    {
      "cell_type": "code",
      "source": [
        "mark=int(input(\"enter your mark\"))\n",
        "if (mark>=50):\n",
        "  print(\"you are passed,congratulation\")\n",
        "else:\n",
        "  print(\"you are failed,try your level best\")"
      ],
      "metadata": {
        "colab": {
          "base_uri": "https://localhost:8080/"
        },
        "id": "Lz6m_JTjr3p5",
        "outputId": "639cc9c3-7a33-400b-9c8e-98b7f373b621"
      },
      "execution_count": 11,
      "outputs": [
        {
          "output_type": "stream",
          "name": "stdout",
          "text": [
            "enter your mark49\n",
            "you are failed,try your level best\n"
          ]
        }
      ]
    },
    {
      "cell_type": "code",
      "source": [
        "num=int(input(\"enter the number\"))\n",
        "if (num>0):\n",
        "  print(\"positive\")\n",
        "elif (num<0):\n",
        "  print(\"negtive\")\n",
        "else:\n",
        "  print(\"zero\")"
      ],
      "metadata": {
        "colab": {
          "base_uri": "https://localhost:8080/"
        },
        "id": "ez_0GJaEtLJ6",
        "outputId": "3e84254c-2fa6-4a6f-9609-c8041845ce98"
      },
      "execution_count": 14,
      "outputs": [
        {
          "output_type": "stream",
          "name": "stdout",
          "text": [
            "enter the number-1\n",
            "negtive\n"
          ]
        }
      ]
    },
    {
      "cell_type": "code",
      "source": [
        "temp=int(input(\"temperature is\"))\n",
        "if (temp<0):\n",
        "  print(\"freezing\")\n",
        "elif (temp>=0 and temp<=20):\n",
        "  print(\"cold\")\n",
        "else:\n",
        "  print(\"warm\")"
      ],
      "metadata": {
        "colab": {
          "base_uri": "https://localhost:8080/"
        },
        "id": "SWMdKUKtu9ty",
        "outputId": "f08667d3-8bfd-4995-fae3-3f600a8c62e9"
      },
      "execution_count": 19,
      "outputs": [
        {
          "output_type": "stream",
          "name": "stdout",
          "text": [
            "temperature is21\n",
            "warm\n"
          ]
        }
      ]
    },
    {
      "cell_type": "code",
      "source": [
        "mark1=int(input(\"enter your mark\"))\n",
        "if (mark1<=100 and mark1>=90):\n",
        "  print(\"A GRADE\")\n",
        "elif (mark1<90 and mark1>=80):\n",
        "  print(\"B GRADE\")\n",
        "elif (mark1<80 and mark1>=70):\n",
        "  print(\"C GRADE\")\n",
        "elif (mark1<70 and mark1>=60):\n",
        "  print(\"D GRADE\")\n",
        "else:\n",
        "  print(\"FAIL\")"
      ],
      "metadata": {
        "colab": {
          "base_uri": "https://localhost:8080/"
        },
        "id": "Ly6GCraMxPv_",
        "outputId": "caea75f6-a759-43e9-af9a-04f7ffa7e35c"
      },
      "execution_count": 25,
      "outputs": [
        {
          "output_type": "stream",
          "name": "stdout",
          "text": [
            "enter your mark59\n",
            "FAIL\n"
          ]
        }
      ]
    },
    {
      "cell_type": "code",
      "source": [],
      "metadata": {
        "id": "UqYydxpuzWmi"
      },
      "execution_count": null,
      "outputs": []
    }
  ]
}