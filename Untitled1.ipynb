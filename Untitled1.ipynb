{
  "nbformat": 4,
  "nbformat_minor": 0,
  "metadata": {
    "colab": {
      "provenance": [],
      "authorship_tag": "ABX9TyOJ4jksiiOBC6GnFyyuJeFm",
      "include_colab_link": true
    },
    "kernelspec": {
      "name": "python3",
      "display_name": "Python 3"
    },
    "language_info": {
      "name": "python"
    }
  },
  "cells": [
    {
      "cell_type": "markdown",
      "metadata": {
        "id": "view-in-github",
        "colab_type": "text"
      },
      "source": [
        "<a href=\"https://colab.research.google.com/github/Thahraf/AI-Course/blob/main/Untitled1.ipynb\" target=\"_parent\"><img src=\"https://colab.research.google.com/assets/colab-badge.svg\" alt=\"Open In Colab\"/></a>"
      ]
    },
    {
      "cell_type": "code",
      "execution_count": null,
      "metadata": {
        "colab": {
          "base_uri": "https://localhost:8080/",
          "height": 140
        },
        "id": "8ha-AoQLGdFG",
        "outputId": "693c2700-6f67-4a96-dc0c-3b58484c337f"
      },
      "outputs": [
        {
          "output_type": "error",
          "ename": "SyntaxError",
          "evalue": "expected ':' (<ipython-input-2-0db2903b8177>, line 4)",
          "traceback": [
            "\u001b[0;36m  File \u001b[0;32m\"<ipython-input-2-0db2903b8177>\"\u001b[0;36m, line \u001b[0;32m4\u001b[0m\n\u001b[0;31m    else\u001b[0m\n\u001b[0m        ^\u001b[0m\n\u001b[0;31mSyntaxError\u001b[0m\u001b[0;31m:\u001b[0m expected ':'\n"
          ]
        }
      ],
      "source": [
        "a=int(input(\"enter the numbers\"))\n",
        "if a%2==0:\n",
        "  print(\"even number\")\n",
        "else\n",
        "  print(\"odd number\")"
      ]
    },
    {
      "cell_type": "code",
      "source": [
        "class Mathoperations:\n",
        "\n",
        "  def add(self,a=None,b=None,c=None):\n",
        "    if a!=None and b!=None and c!=None:\n",
        "      print(\"result(three number):\",a+b+c)\n",
        "    elif a!=None and b!=None and c==None:\n",
        "      print(\"result(two numbers):\",a+b)\n",
        "    else:\n",
        "      print(\"None\")\n",
        "\n",
        "class Mathoperations_list(Mathoperations):\n",
        "\n",
        "    def add(self,*l):\n",
        "      total = 0\n",
        "      for i in l:\n",
        "        for j in i:\n",
        "          total +=j\n",
        "      print(\"result(list of numbers):\",total)"
      ],
      "metadata": {
        "id": "RmE5y4gaTaUi"
      },
      "execution_count": 13,
      "outputs": []
    }
  ]
}